{
 "cells": [
  {
   "cell_type": "code",
   "execution_count": 1,
   "id": "further-airplane",
   "metadata": {},
   "outputs": [
    {
     "data": {
      "text/html": [
       "<div>\n",
       "<style scoped>\n",
       "    .dataframe tbody tr th:only-of-type {\n",
       "        vertical-align: middle;\n",
       "    }\n",
       "\n",
       "    .dataframe tbody tr th {\n",
       "        vertical-align: top;\n",
       "    }\n",
       "\n",
       "    .dataframe thead th {\n",
       "        text-align: right;\n",
       "    }\n",
       "</style>\n",
       "<table border=\"1\" class=\"dataframe\">\n",
       "  <thead>\n",
       "    <tr style=\"text-align: right;\">\n",
       "      <th></th>\n",
       "      <th>GameID</th>\n",
       "      <th>LeagueIndex</th>\n",
       "      <th>Age</th>\n",
       "      <th>HoursPerWeek</th>\n",
       "      <th>TotalHours</th>\n",
       "      <th>APM</th>\n",
       "      <th>SelectByHotkeys</th>\n",
       "      <th>AssignToHotkeys</th>\n",
       "      <th>UniqueHotkeys</th>\n",
       "      <th>MinimapAttacks</th>\n",
       "      <th>MinimapRightClicks</th>\n",
       "      <th>NumberOfPACs</th>\n",
       "      <th>GapBetweenPACs</th>\n",
       "      <th>ActionLatency</th>\n",
       "      <th>ActionsInPAC</th>\n",
       "      <th>TotalMapExplored</th>\n",
       "      <th>WorkersMade</th>\n",
       "      <th>UniqueUnitsMade</th>\n",
       "      <th>ComplexUnitsMade</th>\n",
       "      <th>ComplexAbilitiesUsed</th>\n",
       "    </tr>\n",
       "  </thead>\n",
       "  <tbody>\n",
       "    <tr>\n",
       "      <th>count</th>\n",
       "      <td>3338.000000</td>\n",
       "      <td>3338.000000</td>\n",
       "      <td>3338.000000</td>\n",
       "      <td>3338.000000</td>\n",
       "      <td>3338.000000</td>\n",
       "      <td>3338.000000</td>\n",
       "      <td>3338.000000</td>\n",
       "      <td>3338.000000</td>\n",
       "      <td>3338.000000</td>\n",
       "      <td>3338.000000</td>\n",
       "      <td>3338.000000</td>\n",
       "      <td>3338.000000</td>\n",
       "      <td>3338.000000</td>\n",
       "      <td>3338.000000</td>\n",
       "      <td>3338.000000</td>\n",
       "      <td>3338.000000</td>\n",
       "      <td>3338.000000</td>\n",
       "      <td>3338.000000</td>\n",
       "      <td>3338.000000</td>\n",
       "      <td>3338.000000</td>\n",
       "    </tr>\n",
       "    <tr>\n",
       "      <th>mean</th>\n",
       "      <td>4719.552127</td>\n",
       "      <td>4.120731</td>\n",
       "      <td>21.650389</td>\n",
       "      <td>15.909527</td>\n",
       "      <td>960.421809</td>\n",
       "      <td>114.575763</td>\n",
       "      <td>0.004023</td>\n",
       "      <td>0.000364</td>\n",
       "      <td>4.316357</td>\n",
       "      <td>0.000094</td>\n",
       "      <td>0.000380</td>\n",
       "      <td>0.003433</td>\n",
       "      <td>40.713819</td>\n",
       "      <td>64.209584</td>\n",
       "      <td>5.266955</td>\n",
       "      <td>22.116836</td>\n",
       "      <td>0.001031</td>\n",
       "      <td>6.541043</td>\n",
       "      <td>0.000060</td>\n",
       "      <td>0.000142</td>\n",
       "    </tr>\n",
       "    <tr>\n",
       "      <th>std</th>\n",
       "      <td>2656.919630</td>\n",
       "      <td>1.448170</td>\n",
       "      <td>4.206357</td>\n",
       "      <td>11.964495</td>\n",
       "      <td>17318.133922</td>\n",
       "      <td>48.111912</td>\n",
       "      <td>0.004726</td>\n",
       "      <td>0.000210</td>\n",
       "      <td>2.333322</td>\n",
       "      <td>0.000159</td>\n",
       "      <td>0.000359</td>\n",
       "      <td>0.000966</td>\n",
       "      <td>17.057191</td>\n",
       "      <td>19.037394</td>\n",
       "      <td>1.500605</td>\n",
       "      <td>7.440875</td>\n",
       "      <td>0.000520</td>\n",
       "      <td>1.859049</td>\n",
       "      <td>0.000112</td>\n",
       "      <td>0.000266</td>\n",
       "    </tr>\n",
       "    <tr>\n",
       "      <th>min</th>\n",
       "      <td>52.000000</td>\n",
       "      <td>1.000000</td>\n",
       "      <td>16.000000</td>\n",
       "      <td>0.000000</td>\n",
       "      <td>3.000000</td>\n",
       "      <td>22.059600</td>\n",
       "      <td>0.000000</td>\n",
       "      <td>0.000000</td>\n",
       "      <td>0.000000</td>\n",
       "      <td>0.000000</td>\n",
       "      <td>0.000000</td>\n",
       "      <td>0.000679</td>\n",
       "      <td>6.666700</td>\n",
       "      <td>24.632600</td>\n",
       "      <td>2.038900</td>\n",
       "      <td>5.000000</td>\n",
       "      <td>0.000077</td>\n",
       "      <td>2.000000</td>\n",
       "      <td>0.000000</td>\n",
       "      <td>0.000000</td>\n",
       "    </tr>\n",
       "    <tr>\n",
       "      <th>25%</th>\n",
       "      <td>2423.250000</td>\n",
       "      <td>3.000000</td>\n",
       "      <td>19.000000</td>\n",
       "      <td>8.000000</td>\n",
       "      <td>300.000000</td>\n",
       "      <td>79.231500</td>\n",
       "      <td>0.001245</td>\n",
       "      <td>0.000202</td>\n",
       "      <td>3.000000</td>\n",
       "      <td>0.000000</td>\n",
       "      <td>0.000139</td>\n",
       "      <td>0.002743</td>\n",
       "      <td>29.326600</td>\n",
       "      <td>50.886425</td>\n",
       "      <td>4.261525</td>\n",
       "      <td>17.000000</td>\n",
       "      <td>0.000682</td>\n",
       "      <td>5.000000</td>\n",
       "      <td>0.000000</td>\n",
       "      <td>0.000000</td>\n",
       "    </tr>\n",
       "    <tr>\n",
       "      <th>50%</th>\n",
       "      <td>4788.000000</td>\n",
       "      <td>4.000000</td>\n",
       "      <td>21.000000</td>\n",
       "      <td>12.000000</td>\n",
       "      <td>500.000000</td>\n",
       "      <td>107.070300</td>\n",
       "      <td>0.002445</td>\n",
       "      <td>0.000349</td>\n",
       "      <td>4.000000</td>\n",
       "      <td>0.000039</td>\n",
       "      <td>0.000278</td>\n",
       "      <td>0.003376</td>\n",
       "      <td>37.058900</td>\n",
       "      <td>61.296100</td>\n",
       "      <td>5.087050</td>\n",
       "      <td>22.000000</td>\n",
       "      <td>0.000904</td>\n",
       "      <td>6.000000</td>\n",
       "      <td>0.000000</td>\n",
       "      <td>0.000020</td>\n",
       "    </tr>\n",
       "    <tr>\n",
       "      <th>75%</th>\n",
       "      <td>6994.750000</td>\n",
       "      <td>5.000000</td>\n",
       "      <td>24.000000</td>\n",
       "      <td>20.000000</td>\n",
       "      <td>800.000000</td>\n",
       "      <td>140.156100</td>\n",
       "      <td>0.004945</td>\n",
       "      <td>0.000493</td>\n",
       "      <td>6.000000</td>\n",
       "      <td>0.000113</td>\n",
       "      <td>0.000508</td>\n",
       "      <td>0.004003</td>\n",
       "      <td>48.510425</td>\n",
       "      <td>74.032525</td>\n",
       "      <td>6.027350</td>\n",
       "      <td>27.000000</td>\n",
       "      <td>0.001258</td>\n",
       "      <td>8.000000</td>\n",
       "      <td>0.000087</td>\n",
       "      <td>0.000182</td>\n",
       "    </tr>\n",
       "    <tr>\n",
       "      <th>max</th>\n",
       "      <td>9271.000000</td>\n",
       "      <td>7.000000</td>\n",
       "      <td>44.000000</td>\n",
       "      <td>168.000000</td>\n",
       "      <td>1000000.000000</td>\n",
       "      <td>389.831400</td>\n",
       "      <td>0.043088</td>\n",
       "      <td>0.001648</td>\n",
       "      <td>10.000000</td>\n",
       "      <td>0.003019</td>\n",
       "      <td>0.003688</td>\n",
       "      <td>0.007971</td>\n",
       "      <td>237.142900</td>\n",
       "      <td>176.372100</td>\n",
       "      <td>18.558100</td>\n",
       "      <td>58.000000</td>\n",
       "      <td>0.005149</td>\n",
       "      <td>13.000000</td>\n",
       "      <td>0.000902</td>\n",
       "      <td>0.003084</td>\n",
       "    </tr>\n",
       "  </tbody>\n",
       "</table>\n",
       "</div>"
      ],
      "text/plain": [
       "            GameID  LeagueIndex          Age  HoursPerWeek      TotalHours  \\\n",
       "count  3338.000000  3338.000000  3338.000000   3338.000000     3338.000000   \n",
       "mean   4719.552127     4.120731    21.650389     15.909527      960.421809   \n",
       "std    2656.919630     1.448170     4.206357     11.964495    17318.133922   \n",
       "min      52.000000     1.000000    16.000000      0.000000        3.000000   \n",
       "25%    2423.250000     3.000000    19.000000      8.000000      300.000000   \n",
       "50%    4788.000000     4.000000    21.000000     12.000000      500.000000   \n",
       "75%    6994.750000     5.000000    24.000000     20.000000      800.000000   \n",
       "max    9271.000000     7.000000    44.000000    168.000000  1000000.000000   \n",
       "\n",
       "               APM  SelectByHotkeys  AssignToHotkeys  UniqueHotkeys  \\\n",
       "count  3338.000000      3338.000000      3338.000000    3338.000000   \n",
       "mean    114.575763         0.004023         0.000364       4.316357   \n",
       "std      48.111912         0.004726         0.000210       2.333322   \n",
       "min      22.059600         0.000000         0.000000       0.000000   \n",
       "25%      79.231500         0.001245         0.000202       3.000000   \n",
       "50%     107.070300         0.002445         0.000349       4.000000   \n",
       "75%     140.156100         0.004945         0.000493       6.000000   \n",
       "max     389.831400         0.043088         0.001648      10.000000   \n",
       "\n",
       "       MinimapAttacks  MinimapRightClicks  NumberOfPACs  GapBetweenPACs  \\\n",
       "count     3338.000000         3338.000000   3338.000000     3338.000000   \n",
       "mean         0.000094            0.000380      0.003433       40.713819   \n",
       "std          0.000159            0.000359      0.000966       17.057191   \n",
       "min          0.000000            0.000000      0.000679        6.666700   \n",
       "25%          0.000000            0.000139      0.002743       29.326600   \n",
       "50%          0.000039            0.000278      0.003376       37.058900   \n",
       "75%          0.000113            0.000508      0.004003       48.510425   \n",
       "max          0.003019            0.003688      0.007971      237.142900   \n",
       "\n",
       "       ActionLatency  ActionsInPAC  TotalMapExplored  WorkersMade  \\\n",
       "count    3338.000000   3338.000000       3338.000000  3338.000000   \n",
       "mean       64.209584      5.266955         22.116836     0.001031   \n",
       "std        19.037394      1.500605          7.440875     0.000520   \n",
       "min        24.632600      2.038900          5.000000     0.000077   \n",
       "25%        50.886425      4.261525         17.000000     0.000682   \n",
       "50%        61.296100      5.087050         22.000000     0.000904   \n",
       "75%        74.032525      6.027350         27.000000     0.001258   \n",
       "max       176.372100     18.558100         58.000000     0.005149   \n",
       "\n",
       "       UniqueUnitsMade  ComplexUnitsMade  ComplexAbilitiesUsed  \n",
       "count      3338.000000       3338.000000           3338.000000  \n",
       "mean          6.541043          0.000060              0.000142  \n",
       "std           1.859049          0.000112              0.000266  \n",
       "min           2.000000          0.000000              0.000000  \n",
       "25%           5.000000          0.000000              0.000000  \n",
       "50%           6.000000          0.000000              0.000020  \n",
       "75%           8.000000          0.000087              0.000182  \n",
       "max          13.000000          0.000902              0.003084  "
      ]
     },
     "execution_count": 1,
     "metadata": {},
     "output_type": "execute_result"
    }
   ],
   "source": [
    "import seaborn as sns\n",
    "import pandas as pd\n",
    "\n",
    "# Dataset of Starcraft 2 games, played in different leagues/levels.\n",
    "df = pd.read_csv('starcraft.csv') \n",
    "df.describe()"
   ]
  },
  {
   "cell_type": "code",
   "execution_count": 2,
   "id": "visible-hammer",
   "metadata": {},
   "outputs": [
    {
     "name": "stdout",
     "output_type": "stream",
     "text": [
      "Чем больше игрок практикуется, тем он быстрее\n"
     ]
    },
    {
     "data": {
      "image/png": "[encoded data removed]",
      "text/plain": [
       "<Figure size 432x288 with 1 Axes>"
      ]
     },
     "metadata": {
      "needs_background": "light"
     },
     "output_type": "display_data"
    }
   ],
   "source": [
    "sns.regplot(data=df, x='HoursPerWeek', y='APM').set(xlabel='Часов игры в неделю', ylabel='Действий в минуту')\n",
    "print('Чем больше игрок практикуется, тем он быстрее')"
   ]
  },
  {
   "cell_type": "code",
   "execution_count": 3,
   "id": "moral-denial",
   "metadata": {},
   "outputs": [
    {
     "name": "stdout",
     "output_type": "stream",
     "text": [
      "Много хоткеев назначают в 2 случаях: если уникальных юнитов много, либо игра ведется на высоком уровне\n"
     ]
    },
    {
     "data": {
      "image/png": "[encoded data removed]",
      "text/plain": [
       "<Figure size 432x288 with 2 Axes>"
      ]
     },
     "metadata": {
      "needs_background": "light"
     },
     "output_type": "display_data"
    }
   ],
   "source": [
    "ax = sns.heatmap(df.pivot_table(index='LeagueIndex', columns='UniqueUnitsMade', values='UniqueHotkeys', aggfunc='mean').fillna(0))\n",
    "ax.set_title('Назначено хоткеев')\n",
    "ax.set(xlabel='Уникальных юнитов', ylabel='Уровень игры')\n",
    "print('Много хоткеев назначают в 2 случаях: если уникальных юнитов много, либо игра ведется на высоком уровне')"
   ]
  },
  {
   "cell_type": "code",
   "execution_count": 4,
   "id": "short-perth",
   "metadata": {},
   "outputs": [
    {
     "name": "stdout",
     "output_type": "stream",
     "text": [
      "Уровень игры почти не зависит от кол-ва практики, пока речь не идет о профессиональном уровне.\n",
      "Профессиональные киберспортсмены тренируются много\n"
     ]
    },
    {
     "data": {
      "image/png": "[encoded data removed]",
      "text/plain": [
       "<Figure size 432x288 with 1 Axes>"
      ]
     },
     "metadata": {
      "needs_background": "light"
     },
     "output_type": "display_data"
    }
   ],
   "source": [
    "sns.boxplot(data=df, x='LeagueIndex', y='HoursPerWeek').set(xlabel='Уровень игры', ylabel='Часов игры в неделю')\n",
    "print('Уровень игры почти не зависит от кол-ва практики, пока речь не идет о профессиональном уровне.\\nПрофессиональные киберспортсмены тренируются много')"
   ]
  },
  {
   "cell_type": "code",
   "execution_count": 5,
   "id": "scenic-teens",
   "metadata": {},
   "outputs": [
    {
     "name": "stdout",
     "output_type": "stream",
     "text": [
      "Скорость реакции игрока почти соответствует нормальному распределению.\n",
      "Выбросы справа, скорее всего, появляются в результате технических проблем (высокий пинг, тормозящая игра и т.п.)\n"
     ]
    },
    {
     "data": {
      "image/png": "[encoded data removed]",
      "text/plain": [
       "<Figure size 360x360 with 1 Axes>"
      ]
     },
     "metadata": {
      "needs_background": "light"
     },
     "output_type": "display_data"
    }
   ],
   "source": [
    "sns.displot(df.ActionLatency).set(xlabel='Время реакции')\n",
    "print('Скорость реакции игрока почти соответствует нормальному распределению.\\nВыбросы справа, скорее всего, появляются в результате технических проблем (высокий пинг, тормозящая игра и т.п.)')"
   ]
  }
 ],
 "metadata": {
  "kernelspec": {
   "display_name": "Python 3",
   "language": "python",
   "name": "python3"
  },
  "language_info": {
   "codemirror_mode": {
    "name": "ipython",
    "version": 3
   },
   "file_extension": ".py",
   "mimetype": "text/x-python",
   "name": "python",
   "nbconvert_exporter": "python",
   "pygments_lexer": "ipython3",
   "version": "3.8.5"
  }
 },
 "nbformat": 4,
 "nbformat_minor": 5
}
