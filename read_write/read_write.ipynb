{
 "cells": [
  {
   "cell_type": "markdown",
   "id": "original-winner",
   "metadata": {},
   "source": [
    "**Домашнее задание**\n",
    "\n",
    "Переведите содержимое файла purchase_log.txt в словарь purchases вида:\n",
    "{‘1840e0b9d4’: ‘Продукты’, …}\n",
    "\n",
    "Для каждого user_id в файле visit_log.csv определите третий столбец с категорией покупки (если покупка была, сам файл visit_log.csv изменять не надо). Запишите в файл funnel.csv визиты из файла visit_log.csv, в которых были покупки с указанием категории.\n",
    "\n",
    "Учтите условия на данные:\n",
    "содержимое purchase_log.txt помещается в оперативную память компьютера\n",
    "содержимое visit_log.csv - нет; используйте только построчную обработку этого файла"
   ]
  },
  {
   "cell_type": "code",
   "execution_count": null,
   "id": "consistent-separate",
   "metadata": {},
   "outputs": [],
   "source": [
    "import json\n",
    "\n",
    "purchase_log = {}\n",
    "\n",
    "def main():\n",
    "    load_purchase_log()\n",
    "    iterate_visit_log() \n",
    "    \n",
    "def load_purchase_log():\n",
    "    with open('purchase_log.txt') as f:\n",
    "        for line in f:\n",
    "            purchase = json.loads(line.strip());\n",
    "            purchase_log[purchase['user_id']] = purchase['category']\n",
    "            \n",
    "def iterate_visit_log():\n",
    "    with open('visit_log.csv') as f:\n",
    "        with open('funnel.csv', 'w') as funnel:\n",
    "            for line in f:\n",
    "                visit = line.strip().split(',')\n",
    "                if(visit[0] in purchase_log):\n",
    "                    visit.append(purchase_log[visit[0]])\n",
    "                    funnel.write(','.join(visit) + '\\n')\n",
    "            \n",
    "main()"
   ]
  }
 ],
 "metadata": {
  "kernelspec": {
   "display_name": "Python 3",
   "language": "python",
   "name": "python3"
  },
  "language_info": {
   "codemirror_mode": {
    "name": "ipython",
    "version": 3
   },
   "file_extension": ".py",
   "mimetype": "text/x-python",
   "name": "python",
   "nbconvert_exporter": "python",
   "pygments_lexer": "ipython3",
   "version": "3.8.5"
  }
 },
 "nbformat": 4,
 "nbformat_minor": 5
}
