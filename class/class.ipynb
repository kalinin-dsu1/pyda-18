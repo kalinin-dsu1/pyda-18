{
 "cells": [
  {
   "cell_type": "markdown",
   "id": "local-economy",
   "metadata": {},
   "source": [
    "## Задание 1\n",
    "Напишите функцию, которая возвращает название валюты (поле ‘Name’) с максимальным значением курса с помощью сервиса https://www.cbr-xml-daily.ru/daily_json.js"
   ]
  },
  {
   "cell_type": "code",
   "execution_count": 1,
   "id": "vietnamese-northern",
   "metadata": {},
   "outputs": [
    {
     "data": {
      "text/plain": [
       "'СДР (специальные права заимствования)'"
      ]
     },
     "execution_count": 1,
     "metadata": {},
     "output_type": "execute_result"
    }
   ],
   "source": [
    "from exchange import Rate\n",
    "\n",
    "class RateExtended(Rate):\n",
    "    def get_most_expensive_currency(self):\n",
    "        # Сортируем список валют по курсу и выводим имя последнего элемента\n",
    "        return sorted(self.exchange_rates().values(), key=lambda item:float(item['Value']))[-1]['Name']\n",
    "\n",
    "RateExtended().get_most_expensive_currency()"
   ]
  },
  {
   "cell_type": "markdown",
   "id": "lasting-basketball",
   "metadata": {},
   "source": [
    "## Задание 2\n",
    "Добавьте в класс Rate параметр diff (со значениями True или False), который в случае значения True в методах курсов валют (eur, usd итд) будет возвращать не курс валюты, а изменение по сравнению в прошлым значением. Считайте, self.diff будет принимать значение True только при возврате значения курса. При отображении всей информации о валюте он не используется."
   ]
  },
  {
   "cell_type": "code",
   "execution_count": 2,
   "id": "metric-question",
   "metadata": {},
   "outputs": [
    {
     "name": "stdout",
     "output_type": "stream",
     "text": [
      "{'ID': 'R01235', 'NumCode': '840', 'CharCode': 'USD', 'Nominal': 1, 'Name': 'Доллар США', 'Value': 74.4373, 'Previous': 73.4747}\n",
      "0.9625999999999948\n"
     ]
    }
   ],
   "source": [
    "from exchange import Rate\n",
    "\n",
    "class RateExtended(Rate):\n",
    "    def __init__(self, format='value', diff=False):\n",
    "        super().__init__(format)\n",
    "        self.diff = diff\n",
    "       \n",
    "    def make_format(self, currency):\n",
    "        \"\"\"\n",
    "        Возвращает информацию о валюте currency в трех вариантах:\n",
    "        - полная информация о валюте при self.format = 'full':\n",
    "        Rate('full').make_format('EUR')\n",
    "        {\n",
    "            'CharCode': 'EUR',\n",
    "            'ID': 'R01239',\n",
    "            'Name': 'Евро',\n",
    "            'Nominal': 1,\n",
    "            'NumCode': '978',\n",
    "            'Previous': 79.6765,\n",
    "            'Value': 79.4966\n",
    "        }\n",
    "        \n",
    "        - Курс валюты при self.format = 'value' и self.diff = False\n",
    "        Rate('value').make_format('EUR')\n",
    "        79.4966\n",
    "        \n",
    "        - Изменение курса от прошлого значения при self.format = 'value' и self.diff = True\n",
    "        Rate('value').make_format('EUR')\n",
    "        79.4966\n",
    "        \"\"\"\n",
    "        \n",
    "        response = self.exchange_rates()\n",
    "\n",
    "        if currency in response:\n",
    "            if self.format == 'full':\n",
    "                return response[currency]\n",
    "            \n",
    "            if self.format == 'value':\n",
    "                if self.diff:\n",
    "                    return float(response[currency]['Value']) - float(response[currency]['Previous'])\n",
    "                else:    \n",
    "                    return response[currency]['Value']\n",
    "        \n",
    "        return 'Error'\n",
    "    \n",
    "print(RateExtended(format='full').usd())\n",
    "print(RateExtended(diff=True).usd())"
   ]
  },
  {
   "cell_type": "markdown",
   "id": "strong-packaging",
   "metadata": {},
   "source": [
    "## Задание 3\n",
    "\n",
    "Напишите класс Designer, который учитывает количество международных премий для дизайнеров (из презентации: “Повышение на 1 грейд за каждые 7 баллов. Получение международной премии – это +2 балла”). Считайте, что при выходе на работу сотрудник уже имеет две премии и их количество не меняется со стажем (конечно если хотите это можно вручную менять)."
   ]
  },
  {
   "cell_type": "code",
   "execution_count": 3,
   "id": "whole-carter",
   "metadata": {},
   "outputs": [
    {
     "name": "stdout",
     "output_type": "stream",
     "text": [
      "Тёма 1\n",
      "Тёма 2\n",
      "Тёма 2\n",
      "Тёма 2\n",
      "Тёма 2\n",
      "Тёма 2\n",
      "Тёма 2\n",
      "Тёма 2\n",
      "Тёма 3\n",
      "Тёма 3\n",
      "Тёма 3\n",
      "Тёма 3\n",
      "Тёма 3\n",
      "Тёма 3\n",
      "Тёма 3\n",
      "Тёма 4\n",
      "Тёма 4\n",
      "Тёма 4\n",
      "Тёма 4\n",
      "Тёма 4\n"
     ]
    }
   ],
   "source": [
    "from exchange import Employee\n",
    "\n",
    "class Designer(Employee):\n",
    "    def __init__(self, name, seniority, awards=2):\n",
    "        super().__init__(name, seniority)\n",
    "        \n",
    "        # По умолчанию, у каждого нового дизайнера 2 премии\n",
    "        self.awards = awards\n",
    "    \n",
    "    def check_if_it_is_time_for_upgrade(self):\n",
    "        # для каждой аккредитации увеличиваем счетчик на 1\n",
    "        # пока считаем, что все дизайнеры проходят аккредитацию\n",
    "        self.seniority += 1\n",
    "        \n",
    "         # условие повышения сотрудника из презентации\n",
    "        if (self.awards * 2 + self.seniority) % 7 == 0:\n",
    "            self.grade_up()\n",
    "        \n",
    "        # публикация результатов\n",
    "        return self.publish_grade()\n",
    "\n",
    "designer = Designer('Тёма', 1)\n",
    "for i in range(20):\n",
    "    designer.check_if_it_is_time_for_upgrade()"
   ]
  }
 ],
 "metadata": {
  "kernelspec": {
   "display_name": "Python 3",
   "language": "python",
   "name": "python3"
  },
  "language_info": {
   "codemirror_mode": {
    "name": "ipython",
    "version": 3
   },
   "file_extension": ".py",
   "mimetype": "text/x-python",
   "name": "python",
   "nbconvert_exporter": "python",
   "pygments_lexer": "ipython3",
   "version": "3.8.5"
  }
 },
 "nbformat": 4,
 "nbformat_minor": 5
}
