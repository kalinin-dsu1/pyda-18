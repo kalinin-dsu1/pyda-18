{
 "cells": [
  {
   "cell_type": "markdown",
   "id": "organic-retention",
   "metadata": {},
   "source": [
    "Смоделировать игру против лотерейного автомата типа “777”. Игрок платит 1 руб., после чего выпадает случайное целое число, равномерно распределенное от 0 до 999. При некоторых значениях числа игрок получает выигрыш (см. справа)\n",
    "\n",
    "Выгодна ли игра игроку?\n",
    "\n",
    "Сколько в среднем приобретает\n",
    "или теряет игрок за одну игру?\n",
    "\n",
    "777: 200 руб.  \n",
    "999: 100 руб.  \n",
    "555: 50 руб.  \n",
    "333: 15 руб.  \n",
    "111: 10 руб.  \n",
    "-77: 5 руб.  \n",
    "--7: 3 руб.  \n",
    "-00: 2 руб.  \n",
    "--0: 1 руб.  "
   ]
  },
  {
   "cell_type": "code",
   "execution_count": 1,
   "id": "convertible-karma",
   "metadata": {},
   "outputs": [
    {
     "name": "stdout",
     "output_type": "stream",
     "text": [
      "За игру игрок теряет 0.2 рублей\n"
     ]
    }
   ],
   "source": [
    "import numpy as np\n",
    "\n",
    "np.random.seed(1)\n",
    "trials = 1000000\n",
    "win = 0\n",
    "\n",
    "for i in range(trials):\n",
    "    result = np.random.randint(1000)\n",
    "    if result == 777:\n",
    "        win += 200\n",
    "    elif result == 999:\n",
    "        win += 100\n",
    "    elif result == 555:\n",
    "        win += 50\n",
    "    elif result == 333:\n",
    "        win += 15\n",
    "    elif result == 111:\n",
    "        win += 10\n",
    "    elif result % 100 == 77:\n",
    "        win += 5\n",
    "    elif result % 10 == 7:\n",
    "        win += 3\n",
    "    elif result % 100 == 0:\n",
    "        win += 2\n",
    "    elif result % 10 == 0:\n",
    "        win += 1\n",
    "\n",
    "lose_by_round = (trials - win)/trials\n",
    "lose_by_round = round(lose_by_round, 2)\n",
    "print(f\"За игру игрок теряет {lose_by_round} рублей\")"
   ]
  },
  {
   "cell_type": "code",
   "execution_count": 2,
   "id": "tutorial-brunei",
   "metadata": {},
   "outputs": [
    {
     "name": "stdout",
     "output_type": "stream",
     "text": [
      "За игру игрок теряет 0.2 рублей\n"
     ]
    }
   ],
   "source": [
    "lose_by_round = 1 - (200*0.001 + 100*0.001 + 50*0.001 + 15*0.001 + 10*0.001 + 5*0.009 + 3*0.09 + 2*0.01 + 1*0.09)\n",
    "lose_by_round = round(lose_by_round, 2)\n",
    "print(f\"За игру игрок теряет {lose_by_round} рублей\")"
   ]
  }
 ],
 "metadata": {
  "kernelspec": {
   "display_name": "Python 3",
   "language": "python",
   "name": "python3"
  },
  "language_info": {
   "codemirror_mode": {
    "name": "ipython",
    "version": 3
   },
   "file_extension": ".py",
   "mimetype": "text/x-python",
   "name": "python",
   "nbconvert_exporter": "python",
   "pygments_lexer": "ipython3",
   "version": "3.8.5"
  }
 },
 "nbformat": 4,
 "nbformat_minor": 5
}
