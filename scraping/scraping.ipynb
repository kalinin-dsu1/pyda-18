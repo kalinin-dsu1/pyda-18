{
 "cells": [
  {
   "cell_type": "markdown",
   "metadata": {},
   "source": [
    "## Задание 1. \n",
    "\n",
    "### Обязательная часть"
   ]
  },
  {
   "cell_type": "markdown",
   "metadata": {},
   "source": [
    "Будем парсить страницу со свежеми новостям на [habr.com/ru/all/](https://habr.com/ru/all/).\n",
    "\n",
    "Вам необходимо собирать только те статьи, в которых встречается хотя бы одно требуемое ключевое слово. Эти слова определяем в начале кода в переменной, например:\n",
    "\n",
    "`KEYWORDS = ['python', 'парсинг']`\n",
    "\n",
    " Поиск вести по всей доступной preview-информации (это информация, доступная непосредственно с текущей страницы). \n",
    " \n",
    "В итоге должен формироваться датафрейм вида: `<дата> - <заголовок> - <ссылка>`"
   ]
  },
  {
   "cell_type": "markdown",
   "metadata": {},
   "source": [
    "### Дополнительная часть (необязательная)"
   ]
  },
  {
   "cell_type": "markdown",
   "metadata": {},
   "source": [
    "Улучшить скрипт так, чтобы он анализировал не только preview-информацию статьи, но и весь текст статьи целиком.\n",
    "\n",
    "Для этого потребуется получать страницы статей и искать по тексту внутри этой страницы.  \n",
    "\n",
    "Итоговый датафрейм формировать со столбцами: `<дата> - <заголовок> - <ссылка> - <текст_статьи>`\n"
   ]
  },
  {
   "cell_type": "code",
   "execution_count": 1,
   "metadata": {},
   "outputs": [
    {
     "data": {
      "text/html": [
       "<div>\n",
       "<style scoped>\n",
       "    .dataframe tbody tr th:only-of-type {\n",
       "        vertical-align: middle;\n",
       "    }\n",
       "\n",
       "    .dataframe tbody tr th {\n",
       "        vertical-align: top;\n",
       "    }\n",
       "\n",
       "    .dataframe thead th {\n",
       "        text-align: right;\n",
       "    }\n",
       "</style>\n",
       "<table border=\"1\" class=\"dataframe\">\n",
       "  <thead>\n",
       "    <tr style=\"text-align: right;\">\n",
       "      <th></th>\n",
       "      <th>дата</th>\n",
       "      <th>заголовок</th>\n",
       "      <th>ссылка</th>\n",
       "      <th>текст_статьи</th>\n",
       "    </tr>\n",
       "  </thead>\n",
       "  <tbody>\n",
       "    <tr>\n",
       "      <th>0</th>\n",
       "      <td>2021-04-05 11:19:00</td>\n",
       "      <td>Полезности для разработчика на Django</td>\n",
       "      <td>None</td>\n",
       "      <td>\\nПредисловиеДля написания данной статьи был и...</td>\n",
       "    </tr>\n",
       "    <tr>\n",
       "      <th>1</th>\n",
       "      <td>2021-04-05 10:47:00</td>\n",
       "      <td>Magento 2 UI Components. Часть 1: общее устрой...</td>\n",
       "      <td>None</td>\n",
       "      <td>\\nПривет! Меня зовут Павел и я Magento 2 бэкен...</td>\n",
       "    </tr>\n",
       "    <tr>\n",
       "      <th>2</th>\n",
       "      <td>2021-04-05 10:45:00</td>\n",
       "      <td>Impala для Python-разработчика на примере опре...</td>\n",
       "      <td>None</td>\n",
       "      <td>\\nВсем привет.Как известно, есть множество раз...</td>\n",
       "    </tr>\n",
       "  </tbody>\n",
       "</table>\n",
       "</div>"
      ],
      "text/plain": [
       "                 дата                                          заголовок  \\\n",
       "0 2021-04-05 11:19:00              Полезности для разработчика на Django   \n",
       "1 2021-04-05 10:47:00  Magento 2 UI Components. Часть 1: общее устрой...   \n",
       "2 2021-04-05 10:45:00  Impala для Python-разработчика на примере опре...   \n",
       "\n",
       "  ссылка                                       текст_статьи  \n",
       "0   None  \\nПредисловиеДля написания данной статьи был и...  \n",
       "1   None  \\nПривет! Меня зовут Павел и я Magento 2 бэкен...  \n",
       "2   None  \\nВсем привет.Как известно, есть множество раз...  "
      ]
     },
     "execution_count": 1,
     "metadata": {},
     "output_type": "execute_result"
    }
   ],
   "source": [
    "import requests\n",
    "import pandas as pd\n",
    "from datetime import datetime as dt\n",
    "from bs4 import BeautifulSoup\n",
    "\n",
    "KEYWORDS = ['python', 'парсинг']\n",
    "\n",
    "html = BeautifulSoup(requests.get('https://habr.com/ru/all/').text, 'html.parser')\n",
    "links = html.find_all(\"a\", class_=\"post__title_link\")\n",
    "\n",
    "data = []\n",
    "for link in links:\n",
    "    post_html = BeautifulSoup(requests.get(link['href']).text, 'html.parser')\n",
    "    post_text = post_html.find(\"div\", {\"class\":\"post__body_full\"}).get_text()\n",
    "    for keyword in KEYWORDS:\n",
    "        if keyword in post_text.lower():\n",
    "            date_string = post_html.find(\"span\", class_=\"post__time\")['data-time_published']\n",
    "            date = dt.strptime(date_string, '%Y-%m-%dT%H:%MZ')\n",
    "            title = post_html.find(\"span\", class_=\"post__title-text\").text\n",
    "            data.append({\n",
    "                \"дата\": date,\n",
    "                \"заголовок\": title,\n",
    "                \"ссылка\": link.href,\n",
    "                \"текст_статьи\": post_text\n",
    "            })\n",
    "            break\n",
    "\n",
    "pd.DataFrame(data)"
   ]
  },
  {
   "cell_type": "markdown",
   "metadata": {},
   "source": [
    "## Задание 2."
   ]
  },
  {
   "cell_type": "markdown",
   "metadata": {},
   "source": [
    "### Обязательная часть"
   ]
  },
  {
   "cell_type": "markdown",
   "metadata": {},
   "source": [
    "Написать скрипт, который будет проверять список e-mail адресов на утечку при помощи сервиса [Avast Hack Ckeck](https://www.avast.com/hackcheck/).\n",
    "Список email-ов задаем переменной в начале кода:  \n",
    "`EMAIL = [xxx@x.ru, yyy@y.com]`\n",
    "\n",
    "В итоге должен формироваться датафрейм со столбцами: `<почта> - <дата утечки> - <источник утечки> - <описание утечки>`  \n",
    "\n",
    "**Подсказка**: сервис работает при помощи \"скрытого\" API. Внимательно изучите post-запросы."
   ]
  },
  {
   "cell_type": "code",
   "execution_count": 2,
   "metadata": {},
   "outputs": [
    {
     "data": {
      "text/html": [
       "<div>\n",
       "<style scoped>\n",
       "    .dataframe tbody tr th:only-of-type {\n",
       "        vertical-align: middle;\n",
       "    }\n",
       "\n",
       "    .dataframe tbody tr th {\n",
       "        vertical-align: top;\n",
       "    }\n",
       "\n",
       "    .dataframe thead th {\n",
       "        text-align: right;\n",
       "    }\n",
       "</style>\n",
       "<table border=\"1\" class=\"dataframe\">\n",
       "  <thead>\n",
       "    <tr style=\"text-align: right;\">\n",
       "      <th></th>\n",
       "      <th>почта</th>\n",
       "      <th>дата утечки</th>\n",
       "      <th>источник утечки</th>\n",
       "      <th>описание утечки</th>\n",
       "    </tr>\n",
       "  </thead>\n",
       "  <tbody>\n",
       "    <tr>\n",
       "      <th>0</th>\n",
       "      <td>kalinin.m.v@gmail.com</td>\n",
       "      <td>2019-03-20</td>\n",
       "      <td>bookmate.com</td>\n",
       "      <td>In July 2018, Bookmate was allegedly breached....</td>\n",
       "    </tr>\n",
       "    <tr>\n",
       "      <th>1</th>\n",
       "      <td>kalinin.m.v@gmail.com</td>\n",
       "      <td>2019-03-20</td>\n",
       "      <td>roll20.net</td>\n",
       "      <td>In January 2019, Roll20 allegedly breached. Th...</td>\n",
       "    </tr>\n",
       "    <tr>\n",
       "      <th>2</th>\n",
       "      <td>kalinin.m.v@gmail.com</td>\n",
       "      <td>2018-12-13</td>\n",
       "      <td>strongholdkingdoms.com</td>\n",
       "      <td>In July of 2018, the online castle building MM...</td>\n",
       "    </tr>\n",
       "    <tr>\n",
       "      <th>3</th>\n",
       "      <td>kalinin.m.v@gmail.com</td>\n",
       "      <td>2019-03-07</td>\n",
       "      <td>armorgames.com</td>\n",
       "      <td>In December 2018, Armor Games' database was al...</td>\n",
       "    </tr>\n",
       "    <tr>\n",
       "      <th>4</th>\n",
       "      <td>kalinin.m.v@gmail.com</td>\n",
       "      <td>2020-12-03</td>\n",
       "      <td>dark-wind.com</td>\n",
       "      <td>In November 2020, a collection of over 23,000 ...</td>\n",
       "    </tr>\n",
       "    <tr>\n",
       "      <th>5</th>\n",
       "      <td>kalinin.m.v@gmail.com</td>\n",
       "      <td>2018-10-04</td>\n",
       "      <td>mortalonline.com</td>\n",
       "      <td>In June 2018, the online role playing game Mor...</td>\n",
       "    </tr>\n",
       "    <tr>\n",
       "      <th>6</th>\n",
       "      <td>kalinin.m.v@gmail.com</td>\n",
       "      <td>2018-03-20</td>\n",
       "      <td>myfitnesspal.com</td>\n",
       "      <td>In February 2018, MyFitnessPal's database was ...</td>\n",
       "    </tr>\n",
       "  </tbody>\n",
       "</table>\n",
       "</div>"
      ],
      "text/plain": [
       "                   почта дата утечки         источник утечки  \\\n",
       "0  kalinin.m.v@gmail.com  2019-03-20            bookmate.com   \n",
       "1  kalinin.m.v@gmail.com  2019-03-20              roll20.net   \n",
       "2  kalinin.m.v@gmail.com  2018-12-13  strongholdkingdoms.com   \n",
       "3  kalinin.m.v@gmail.com  2019-03-07          armorgames.com   \n",
       "4  kalinin.m.v@gmail.com  2020-12-03           dark-wind.com   \n",
       "5  kalinin.m.v@gmail.com  2018-10-04        mortalonline.com   \n",
       "6  kalinin.m.v@gmail.com  2018-03-20        myfitnesspal.com   \n",
       "\n",
       "                                     описание утечки  \n",
       "0  In July 2018, Bookmate was allegedly breached....  \n",
       "1  In January 2019, Roll20 allegedly breached. Th...  \n",
       "2  In July of 2018, the online castle building MM...  \n",
       "3  In December 2018, Armor Games' database was al...  \n",
       "4  In November 2020, a collection of over 23,000 ...  \n",
       "5  In June 2018, the online role playing game Mor...  \n",
       "6  In February 2018, MyFitnessPal's database was ...  "
      ]
     },
     "execution_count": 2,
     "metadata": {},
     "output_type": "execute_result"
    }
   ],
   "source": [
    "import requests\n",
    "import pandas as pd\n",
    "from datetime import datetime as dt\n",
    "\n",
    "EMAIL = ['kalinin.m.v@gmail.com', 'kalinin.m.v2@gmail.com']\n",
    "API = \"https://identityprotection.avast.com/v1/web/query/site-breaches/unauthorized-data\"\n",
    "HEADERS = {\n",
    "    \"Vaar-Version\": \"0\",\n",
    "    \"Vaar-Header-App-Product-Name\": \"hackcheck-web-avast\",\n",
    "    \"Vaar-Header-App-Build-Version\": \"1.0.0\"\n",
    "}\n",
    "\n",
    "breaches = [];\n",
    "\n",
    "for item in EMAIL:\n",
    "    r = requests.post(API, json={\"emailAddresses\": [item]}, headers=HEADERS)\n",
    "    for breach in r.json()[\"breaches\"].values():\n",
    "        breaches.append({\n",
    "            \"почта\": item,\n",
    "            \"дата утечки\": dt.strptime(breach[\"publishDate\"], '%Y-%m-%dT%H:%M:%SZ'),\n",
    "            \"источник утечки\": breach[\"site\"],\n",
    "            \"описание утечки\": breach[\"description\"]\n",
    "        })\n",
    "        \n",
    "pd.DataFrame(breaches)"
   ]
  }
 ],
 "metadata": {
  "kernelspec": {
   "display_name": "Python 3",
   "language": "python",
   "name": "python3"
  },
  "language_info": {
   "codemirror_mode": {
    "name": "ipython",
    "version": 3
   },
   "file_extension": ".py",
   "mimetype": "text/x-python",
   "name": "python",
   "nbconvert_exporter": "python",
   "pygments_lexer": "ipython3",
   "version": "3.8.5"
  }
 },
 "nbformat": 4,
 "nbformat_minor": 2
}
