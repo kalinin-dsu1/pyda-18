{
 "cells": [
  {
   "cell_type": "markdown",
   "metadata": {},
   "source": [
    "# Домашнее задание к лекции \"Базовые понятия статистики\""
   ]
  },
  {
   "cell_type": "code",
   "execution_count": 1,
   "metadata": {},
   "outputs": [
    {
     "name": "stdout",
     "output_type": "stream",
     "text": [
      "          surgery         age        temp       pulse      mucous  \\\n",
      "count  299.000000  300.000000  240.000000  276.000000  253.000000   \n",
      "mean     1.397993    1.640000   38.167917   71.913043    2.853755   \n",
      "std      0.490305    2.173972    0.732289   28.630557    1.620294   \n",
      "min      1.000000    1.000000   35.400000   30.000000    1.000000   \n",
      "25%      1.000000    1.000000   37.800000   48.000000    1.000000   \n",
      "50%      1.000000    1.000000   38.200000   64.000000    3.000000   \n",
      "75%      2.000000    1.000000   38.500000   88.000000    4.000000   \n",
      "max      2.000000    9.000000   40.800000  184.000000    6.000000   \n",
      "\n",
      "       peristalsis   abdominal     outcome  \n",
      "count   256.000000  244.000000  299.000000  \n",
      "mean      2.917969    2.266393    1.551839  \n",
      "std       0.976744    1.065131    0.737187  \n",
      "min       1.000000    1.000000    1.000000  \n",
      "25%       3.000000    1.000000    1.000000  \n",
      "50%       3.000000    2.000000    1.000000  \n",
      "75%       4.000000    3.000000    2.000000  \n",
      "max       4.000000    4.000000    3.000000  \n",
      "   surgery  age  temp  pulse  mucous  peristalsis  abdominal  outcome\n",
      "0      1.0    1  38.0   48.0     1.0          3.0        1.0      1.0\n"
     ]
    }
   ],
   "source": [
    "import pandas as pd\n",
    "\n",
    "def load_data():\n",
    "    df = pd.read_csv('horse_data.csv', names=range(1,29), na_values=['?'])\n",
    "    return df[[1,2,4,5,9,12,13,23]].rename(columns={\n",
    "        1: 'surgery',\n",
    "        2: 'age',\n",
    "        4: 'temp',\n",
    "        5: 'pulse',\n",
    "        9: 'mucous',\n",
    "        12: 'peristalsis',\n",
    "        13: 'abdominal',\n",
    "        23: 'outcome'\n",
    "    })\n",
    "\n",
    "df = load_data()\n",
    "print(df.describe())\n",
    "print(df.mode())"
   ]
  },
  {
   "cell_type": "markdown",
   "metadata": {},
   "source": [
    "В выбранных данных присутствует две числовые колонки, temp и pulse. Судя по разнице между средней и более устойчивой к выбросам медианной, в колонке pulse с большой вероятностью могут быть выбросы.\n",
    "Судя по значениям колонки age, присутствуют ошибки. Разбираемся:"
   ]
  },
  {
   "cell_type": "code",
   "execution_count": 2,
   "metadata": {},
   "outputs": [
    {
     "data": {
      "text/plain": [
       "1    276\n",
       "9     24\n",
       "Name: age, dtype: int64"
      ]
     },
     "execution_count": 2,
     "metadata": {},
     "output_type": "execute_result"
    }
   ],
   "source": [
    "df.age.value_counts()"
   ]
  },
  {
   "cell_type": "markdown",
   "metadata": {},
   "source": [
    "Очевидно, в этой колонке вместо 2 указано 9, исправляем. Так же, в колонке outcome, меняем значение 3 на 2, для целей аналитики разница между смертью и эвтаназией не существенна."
   ]
  },
  {
   "cell_type": "code",
   "execution_count": 3,
   "metadata": {},
   "outputs": [],
   "source": [
    "df.age.replace({9: 2}, inplace = True)\n",
    "df.outcome.replace({3: 2}, inplace = True)"
   ]
  },
  {
   "cell_type": "markdown",
   "metadata": {},
   "source": [
    "Ищем выбросы в числовых колонках temp, pulse:"
   ]
  },
  {
   "cell_type": "code",
   "execution_count": 4,
   "metadata": {},
   "outputs": [
    {
     "name": "stdout",
     "output_type": "stream",
     "text": [
      "44     35.4\n",
      "141    36.0\n",
      "238    36.1\n",
      "80     36.4\n",
      "118    36.5\n",
      "298    36.5\n",
      "251    36.6\n",
      "99     39.6\n",
      "75     39.7\n",
      "20     39.9\n",
      "281    40.0\n",
      "259    40.8\n",
      "5       NaN\n",
      "7       NaN\n",
      "8       NaN\n",
      "16      NaN\n",
      "35      NaN\n",
      "40      NaN\n",
      "43      NaN\n",
      "45      NaN\n",
      "52      NaN\n",
      "57      NaN\n",
      "58      NaN\n",
      "65      NaN\n",
      "68      NaN\n",
      "74      NaN\n",
      "86      NaN\n",
      "87      NaN\n",
      "93      NaN\n",
      "96      NaN\n",
      "101     NaN\n",
      "105     NaN\n",
      "112     NaN\n",
      "115     NaN\n",
      "134     NaN\n",
      "142     NaN\n",
      "145     NaN\n",
      "159     NaN\n",
      "167     NaN\n",
      "169     NaN\n",
      "173     NaN\n",
      "174     NaN\n",
      "177     NaN\n",
      "178     NaN\n",
      "191     NaN\n",
      "193     NaN\n",
      "216     NaN\n",
      "219     NaN\n",
      "222     NaN\n",
      "227     NaN\n",
      "242     NaN\n",
      "253     NaN\n",
      "254     NaN\n",
      "265     NaN\n",
      "274     NaN\n",
      "293     NaN\n",
      "295     NaN\n",
      "Name: temp, dtype: float64\n",
      "41     150.0\n",
      "275    150.0\n",
      "55     160.0\n",
      "3      164.0\n",
      "255    184.0\n",
      "5        NaN\n",
      "52       NaN\n",
      "58       NaN\n",
      "74       NaN\n",
      "93       NaN\n",
      "115      NaN\n",
      "117      NaN\n",
      "126      NaN\n",
      "151      NaN\n",
      "159      NaN\n",
      "174      NaN\n",
      "204      NaN\n",
      "216      NaN\n",
      "227      NaN\n",
      "Name: pulse, dtype: float64\n"
     ]
    }
   ],
   "source": [
    "def find_outliers(df, columns):\n",
    "    for column in columns:\n",
    "        q1 = df[column].quantile(.25)\n",
    "        q3 = df[column].quantile(.75)\n",
    "        iqr = q3 - q1\n",
    "        lower_bound = q1 - (iqr * 1.5)\n",
    "        upper_bound = q3 + (iqr * 1.5)\n",
    "        remove_outliers = df[df[column].between(lower_bound, upper_bound, inclusive = True)].sort_values(column)\n",
    "        print(pd.concat([df, remove_outliers]).drop_duplicates(keep=False).sort_values(column)[column])\n",
    "        \n",
    "find_outliers(df, ['temp', 'pulse'])"
   ]
  },
  {
   "cell_type": "markdown",
   "metadata": {},
   "source": [
    "Выбросы есть в каждой числовой колонке, но, если верить гуглу, такие значения вполне могут иметь место для больных лошадей. Оставляем выбросы как есть"
   ]
  },
  {
   "cell_type": "markdown",
   "metadata": {},
   "source": [
    "В колонке 'age' пропусков нет, а ошибки мы уже поправили, а колонках 'surgery' и 'outcome' по 1 пропуску, поэтому строки с пропусками можно смело удалять:"
   ]
  },
  {
   "cell_type": "code",
   "execution_count": 5,
   "metadata": {},
   "outputs": [],
   "source": [
    "df.dropna(subset=['surgery', 'outcome'], inplace=True)"
   ]
  },
  {
   "cell_type": "markdown",
   "metadata": {},
   "source": [
    "Осталось 5 колонок с пропусками, которые надо заполнить: temp,pulse,mucous,peristalsis,abdominal\n",
    "Попробуем сначала посмотреть зависимость числовых колонок temp и pulse от каждой из качественных колонок:"
   ]
  },
  {
   "cell_type": "code",
   "execution_count": 6,
   "metadata": {},
   "outputs": [
    {
     "name": "stdout",
     "output_type": "stream",
     "text": [
      "             age       temp      pulse    mucous  peristalsis  abdominal  \\\n",
      "surgery                                                                    \n",
      "1.0      1.10000  38.143571  76.396341  3.108108     3.141935   2.492958   \n",
      "2.0      1.05042  38.204040  65.504505  2.490385     2.570000   1.960396   \n",
      "\n",
      "          outcome  \n",
      "surgery            \n",
      "1.0      1.472222  \n",
      "2.0      1.302521  \n",
      "      surgery       temp       pulse    mucous  peristalsis  abdominal  \\\n",
      "age                                                                      \n",
      "1    1.410909  38.125114   67.533597  2.855932     2.928270   2.245614   \n",
      "2    1.250000  38.645000  123.363636  2.812500     2.777778   2.666667   \n",
      "\n",
      "      outcome  \n",
      "age            \n",
      "1    1.396364  \n",
      "2    1.500000  \n",
      "         surgery       age       temp       pulse  peristalsis  abdominal  \\\n",
      "mucous                                                                      \n",
      "1.0     1.544304  1.050633  38.216438   56.766234     2.351351   1.671233   \n",
      "2.0     1.433333  1.200000  38.155556   69.620690     2.620690   2.222222   \n",
      "3.0     1.403509  1.017544  37.921429   70.020000     3.036364   2.433962   \n",
      "4.0     1.219512  1.024390  37.912500   85.850000     3.650000   3.000000   \n",
      "5.0     1.440000  1.080000  38.490909   83.440000     2.869565   2.260870   \n",
      "6.0     1.250000  1.100000  38.411765  107.375000     3.687500   2.666667   \n",
      "\n",
      "         outcome  \n",
      "mucous            \n",
      "1.0     1.139241  \n",
      "2.0     1.333333  \n",
      "3.0     1.385965  \n",
      "4.0     1.634146  \n",
      "5.0     1.760000  \n",
      "6.0     1.700000  \n",
      "            surgery       age       temp      pulse    mucous  peristalsis  \\\n",
      "abdominal                                                                    \n",
      "1.0        1.546667  1.040000  38.176471  59.608108  2.263889     2.410959   \n",
      "2.0        1.523077  1.046154  38.103571  66.711864  2.606557     2.904762   \n",
      "3.0        1.230769  1.076923  38.215385  82.916667  3.096774     3.190476   \n",
      "4.0        1.289474  1.105263  38.286957  90.428571  3.970588     3.647059   \n",
      "\n",
      "            outcome  \n",
      "abdominal            \n",
      "1.0        1.186667  \n",
      "2.0        1.276923  \n",
      "3.0        1.600000  \n",
      "4.0        1.657895  \n",
      "          surgery       age       temp      pulse   mucous  peristalsis  \\\n",
      "outcome                                                                   \n",
      "1.0      1.466292  1.067416  38.190789  63.421687  2.26000     2.660256   \n",
      "2.0      1.297521  1.099174  38.129885  85.064220  3.72549     3.323232   \n",
      "\n",
      "         abdominal  \n",
      "outcome             \n",
      "1.0       1.938776  \n",
      "2.0       2.781250  \n",
      "              surgery       age       temp      pulse    mucous  abdominal  \\\n",
      "peristalsis                                                                  \n",
      "1.0          1.717949  1.102564  38.178378  61.026316  1.805556   1.484848   \n",
      "2.0          1.312500  1.000000  37.931250  51.437500  1.937500   1.666667   \n",
      "3.0          1.385827  1.078740  38.223585  71.107438  2.666667   2.168067   \n",
      "4.0          1.246575  1.054795  38.230000  87.970588  3.876923   2.909091   \n",
      "\n",
      "              outcome  \n",
      "peristalsis            \n",
      "1.0          1.128205  \n",
      "2.0          1.187500  \n",
      "3.0          1.362205  \n",
      "4.0          1.616438  \n"
     ]
    }
   ],
   "source": [
    "print(df.groupby('surgery').mean())\n",
    "print(df.groupby('age').mean())\n",
    "print(df.groupby('mucous').mean())\n",
    "print(df.groupby('abdominal').mean())\n",
    "print(df.groupby('outcome').mean())\n",
    "print(df.groupby('peristalsis').mean())"
   ]
  },
  {
   "cell_type": "markdown",
   "metadata": {},
   "source": [
    "Вижу и предполагаю следующие закономерности:\n",
    "Колонка temp зависит от колонки age, сгруппируем и заполним медианой.\n",
    "Колонка pulse от колонок age,abdomial,outcome, сгруппируем и заполним медианой.\n",
    "Колонка peristalsis зависит от колонки age,abdomial,outcome, сгруппируем и заполним медианой.\n",
    "Колонка abdominal зависит от колонки age,peristalsis,abdominal сгруппируем и заполним медианой.\n",
    "Колонка mucous зависит от колонок abdomial,outcome,peristalsis, сгруппируем и заполним медианой."
   ]
  },
  {
   "cell_type": "code",
   "execution_count": 7,
   "metadata": {},
   "outputs": [],
   "source": [
    "df['temp'].fillna(df.groupby(['age'])['temp'].transform('median'), inplace=True)\n",
    "df['pulse'].fillna(df.groupby(['age','abdominal','outcome'])['pulse'].transform('median'), inplace=True)\n",
    "df['peristalsis'].fillna(df.groupby(['age','abdominal','outcome'])['peristalsis'].transform('median'), inplace=True)\n",
    "df['abdominal'].fillna(df.groupby(['age','peristalsis','abdominal'])['abdominal'].transform('median'), inplace=True)\n",
    "df['mucous'].fillna(df.groupby(['abdominal','outcome','peristalsis'])['mucous'].transform('median'), inplace=True)"
   ]
  },
  {
   "cell_type": "code",
   "execution_count": 8,
   "metadata": {},
   "outputs": [
    {
     "name": "stdout",
     "output_type": "stream",
     "text": [
      "          surgery         age        temp       pulse      mucous  \\\n",
      "count  299.000000  299.000000  299.000000  290.000000  266.000000   \n",
      "mean     1.397993    1.080268   38.161538   72.055172    2.847744   \n",
      "std      0.490305    0.272162    0.658266   28.170337    1.603750   \n",
      "min      1.000000    1.000000   35.400000   30.000000    1.000000   \n",
      "25%      1.000000    1.000000   37.900000   48.000000    1.000000   \n",
      "50%      1.000000    1.000000   38.100000   64.000000    3.000000   \n",
      "75%      2.000000    1.000000   38.500000   88.000000    4.000000   \n",
      "max      2.000000    2.000000   40.800000  184.000000    6.000000   \n",
      "\n",
      "       peristalsis   abdominal     outcome  \n",
      "count   265.000000  243.000000  299.000000  \n",
      "mean      2.935849    2.271605    1.404682  \n",
      "std       0.969046    1.064207    0.491653  \n",
      "min       1.000000    1.000000    1.000000  \n",
      "25%       3.000000    1.000000    1.000000  \n",
      "50%       3.000000    2.000000    1.000000  \n",
      "75%       4.000000    3.000000    2.000000  \n",
      "max       4.000000    4.000000    2.000000  \n",
      "   surgery  age  temp  pulse  mucous  peristalsis  abdominal  outcome\n",
      "0      1.0    1  38.1   48.0     1.0          3.0        1.0      1.0\n"
     ]
    }
   ],
   "source": [
    "print(df.describe())\n",
    "print(df.mode())"
   ]
  },
  {
   "cell_type": "code",
   "execution_count": null,
   "metadata": {},
   "outputs": [],
   "source": [
    "Метрики не сильно отклонились от стартовых, значит пропуски, с большой вероятность, заполнены верно"
   ]
  }
 ],
 "metadata": {
  "kernelspec": {
   "display_name": "Python 3",
   "language": "python",
   "name": "python3"
  },
  "language_info": {
   "codemirror_mode": {
    "name": "ipython",
    "version": 3
   },
   "file_extension": ".py",
   "mimetype": "text/x-python",
   "name": "python",
   "nbconvert_exporter": "python",
   "pygments_lexer": "ipython3",
   "version": "3.8.5"
  }
 },
 "nbformat": 4,
 "nbformat_minor": 2
}
