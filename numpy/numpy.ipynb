{
 "cells": [
  {
   "cell_type": "markdown",
   "id": "preliminary-martial",
   "metadata": {},
   "source": [
    "## Задание 1\n",
    "Создайте numpy array с элементами от числа N до 0 (например, для N = 10 это будет array([9, 8, 7, 6, 5, 4, 3, 2, 1, 0]))."
   ]
  },
  {
   "cell_type": "code",
   "execution_count": 1,
   "id": "geographic-button",
   "metadata": {},
   "outputs": [
    {
     "data": {
      "text/plain": [
       "array([9, 8, 7, 6, 5, 4, 3, 2, 1, 0])"
      ]
     },
     "execution_count": 1,
     "metadata": {},
     "output_type": "execute_result"
    }
   ],
   "source": [
    "import numpy as np\n",
    "\n",
    "n = 10\n",
    "np.flip(np.arange(0, n))"
   ]
  },
  {
   "cell_type": "markdown",
   "id": "fitted-chinese",
   "metadata": {},
   "source": [
    "## Задание 2\n",
    "Создайте диагональную матрицу с элементами от N до 0. Посчитайте сумму ее значений на диагонали."
   ]
  },
  {
   "cell_type": "code",
   "execution_count": 2,
   "id": "greater-irish",
   "metadata": {},
   "outputs": [
    {
     "data": {
      "text/plain": [
       "10.0"
      ]
     },
     "execution_count": 2,
     "metadata": {},
     "output_type": "execute_result"
    }
   ],
   "source": [
    "import numpy as np\n",
    "\n",
    "n = 10\n",
    "np.trace(np.eye(n))"
   ]
  },
  {
   "cell_type": "markdown",
   "id": "nutritional-reducing",
   "metadata": {},
   "source": [
    "## Задание 3\n",
    "Решите систему уравнений:  \n",
    "4x + 2y + z = 4  \n",
    "x + 3y = 12  \n",
    "5y + 4z = -3"
   ]
  },
  {
   "cell_type": "code",
   "execution_count": 3,
   "id": "disturbed-liberty",
   "metadata": {},
   "outputs": [
    {
     "data": {
      "text/plain": [
       "array([ 0.46666667,  3.84444444, -5.55555556])"
      ]
     },
     "execution_count": 3,
     "metadata": {},
     "output_type": "execute_result"
    }
   ],
   "source": [
    "import numpy as np\n",
    "\n",
    "np.linalg.solve([[4,2,1], [1,3,0], [0,5,4]], [4,12,-3])"
   ]
  },
  {
   "cell_type": "markdown",
   "id": "right-canada",
   "metadata": {},
   "source": [
    "## Задача 4 домашнего задания\n",
    "Имеется матрица покупок пользователей в интернет-магазине. На сайт заходит очередной посетитель, найдите самого похожего пользователя."
   ]
  },
  {
   "cell_type": "code",
   "execution_count": 4,
   "id": "involved-diesel",
   "metadata": {},
   "outputs": [
    {
     "name": "stdout",
     "output_type": "stream",
     "text": [
      "На нового пользователя больше всего похож пользователь с ID 8\n"
     ]
    }
   ],
   "source": [
    "import numpy as np\n",
    "\n",
    "users_stats = np.array(\n",
    "    [\n",
    "        [2, 1, 0, 0, 0, 0],\n",
    "        [1, 1, 2, 1, 0, 0],\n",
    "        [2, 0, 1, 0, 0, 0],\n",
    "        [1, 1, 2, 1, 0, 1],\n",
    "        [0, 0, 1, 2, 0, 0],\n",
    "        [0, 0, 0, 0, 0, 5],\n",
    "        [1, 0, 0, 0, 0, 0],\n",
    "        [0, 1, 1, 0, 0, 0],\n",
    "        [0, 0, 0, 1, 1, 3],\n",
    "        [1, 0, 0, 2, 1, 4]\n",
    "    ], \n",
    "    np.int32\n",
    ")\n",
    "\n",
    "next_user_stats = np.array([0, 1, 2, 0, 0, 0])\n",
    "\n",
    "# Вычисляем косинусное сходство каждого пользователя с новым\n",
    "сosine_similarity = []\n",
    "for user in users_stats:\n",
    "    сosine_similarity.append(\n",
    "        np.dot(user, next_user_stats) / (np.linalg.norm(user) * np.linalg.norm(next_user_stats))\n",
    "    )\n",
    "\n",
    "# Добавляем единицу, так как в оригинальной картинке нумерация ID шла с единицы, а индексы списка с ноля.\n",
    "closest_user_id = сosine_similarity.index(max(сosine_similarity)) + 1\n",
    "\n",
    "print(f'На нового пользователя больше всего похож пользователь с ID {closest_user_id}')"
   ]
  }
 ],
 "metadata": {
  "kernelspec": {
   "display_name": "Python 3",
   "language": "python",
   "name": "python3"
  },
  "language_info": {
   "codemirror_mode": {
    "name": "ipython",
    "version": 3
   },
   "file_extension": ".py",
   "mimetype": "text/x-python",
   "name": "python",
   "nbconvert_exporter": "python",
   "pygments_lexer": "ipython3",
   "version": "3.8.5"
  }
 },
 "nbformat": 4,
 "nbformat_minor": 5
}
