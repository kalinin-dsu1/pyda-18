{
 "cells": [
  {
   "cell_type": "markdown",
   "metadata": {},
   "source": [
    "# Домашнее задание к лекции \"Основы Python\""
   ]
  },
  {
   "cell_type": "markdown",
   "metadata": {},
   "source": [
    "## Задание 1"
   ]
  },
  {
   "cell_type": "markdown",
   "metadata": {},
   "source": [
    "Даны 2 переменных, в которых хранятся строки произвольной длины: *phrase_1* и *phrase_2*.  \n",
    "Напишите код, который проверяет какая из этих строк длиннее."
   ]
  },
  {
   "cell_type": "code",
   "execution_count": null,
   "metadata": {},
   "outputs": [],
   "source": [
    "phrase_1 = 'Насколько проще было бы писать программы, если бы не заказчики'\n",
    "phrase_2 = '640Кб должно хватить для любых задач. Билл Гейтс (по легенде)'\n",
    "\n",
    "if(len(phrase_1) > len(phrase_2)):\n",
    "    print('Фраза 1 длиннее фразы 2')\n",
    "elif(len(phrase_1) < len(phrase_2)):\n",
    "    print('Фраза 2 длиннее фразы 1')\n",
    "else:\n",
    "    print('Фразы равной длины')"
   ]
  },
  {
   "cell_type": "markdown",
   "metadata": {},
   "source": [
    "## Задание 2"
   ]
  },
  {
   "cell_type": "markdown",
   "metadata": {},
   "source": [
    "Дана переменная, в которой хранится четырехзначное число (год). Необходимо написать программу, которая выведет, является ли данный год високосным или обычным."
   ]
  },
  {
   "cell_type": "code",
   "execution_count": null,
   "metadata": {},
   "outputs": [],
   "source": [
    "year = 2021\n",
    "\n",
    "if((year % 4) == 0\n",
    "    and ((year % 100) != 0\n",
    "        or (year % 400) == 0)):\n",
    "    print('Високосный год')\n",
    "else:\n",
    "    print('Обычный год')"
   ]
  },
  {
   "cell_type": "markdown",
   "metadata": {},
   "source": [
    "## Задание 3"
   ]
  },
  {
   "cell_type": "markdown",
   "metadata": {},
   "source": [
    "Необходимо написать программу, которая будет запрашивать у пользователя месяц и дату рождения и выводить соответствующий знак зодиака."
   ]
  },
  {
   "cell_type": "code",
   "execution_count": null,
   "metadata": {},
   "outputs": [],
   "source": [
    "month_ds = {\n",
    "    'январь': {\n",
    "        'length': 31,\n",
    "        'sign_before': 'Козерог',\n",
    "        'sign_change': 20,\n",
    "        'sign_after': 'Водолей'\n",
    "    },\n",
    "    'февраль': {\n",
    "        'length': 29,\n",
    "        'sign_before': 'Водолей',\n",
    "        'sign_change': 19,\n",
    "        'sign_after': 'Рыбы'\n",
    "    }\n",
    "    ,\n",
    "    'март': {\n",
    "        'length': 31,\n",
    "        'sign_before': 'Рыбы',\n",
    "        'sign_change': 21,\n",
    "        'sign_after': 'Овен'\n",
    "    }\n",
    "    ,\n",
    "    'апрель': {\n",
    "        'length': 30,\n",
    "        'sign_before': 'Овен',\n",
    "        'sign_change': 20,\n",
    "        'sign_after': 'Телец'\n",
    "    }\n",
    "    ,\n",
    "    'май': {\n",
    "        'length': 31,\n",
    "        'sign_before': 'Телец',\n",
    "        'sign_change': 21,\n",
    "        'sign_after': 'Близнецы'\n",
    "    }\n",
    "    ,\n",
    "    'июнь': {\n",
    "        'length': 30,\n",
    "        'sign_before': 'Близнецы',\n",
    "        'sign_change': 21,\n",
    "        'sign_after': 'Рак'\n",
    "    }\n",
    "    ,\n",
    "    'июль': {\n",
    "        'length': 31,\n",
    "        'sign_before': 'Рак',\n",
    "        'sign_change': 23,\n",
    "        'sign_after': 'Лев'\n",
    "    }\n",
    "    ,\n",
    "    'август': {\n",
    "        'length': 31,\n",
    "        'sign_before': 'Лев',\n",
    "        'sign_change': 23,\n",
    "        'sign_after': 'Дева'\n",
    "    }\n",
    "    ,\n",
    "    'сентябрь': {\n",
    "        'length': 30,\n",
    "        'sign_before': 'Дева',\n",
    "        'sign_change': 23,\n",
    "        'sign_after': 'Весы'\n",
    "    }\n",
    "    ,\n",
    "    'октябрь': {\n",
    "        'length': 31,\n",
    "        'sign_before': 'Весы',\n",
    "        'sign_change': 23,\n",
    "        'sign_after': 'Скорпион'\n",
    "    }\n",
    "    ,\n",
    "    'ноябрь': {\n",
    "        'length': 30,\n",
    "        'sign_before': 'Скорпион',\n",
    "        'sign_change': 22,\n",
    "        'sign_after': 'Стрелец'\n",
    "    }\n",
    "    ,\n",
    "    'декабрь': {\n",
    "        'length': 31,\n",
    "        'sign_before': 'Стрелец',\n",
    "        'sign_change': 22,\n",
    "        'sign_after': 'Водолей'\n",
    "    }\n",
    "}\n",
    "\n",
    "day = input('Введите день: ')\n",
    "month = input('Введите месяц: ').lower()\n",
    "\n",
    "if(not day.isdigit()):\n",
    "    print('Вы ввели неправильный день')\n",
    "elif(not month in month_ds):\n",
    "    print('Вы ввели неправильный месяц')\n",
    "elif(not(0 < int(day) <= month_ds[month]['length'])):\n",
    "    print('Вы ввели неправильный месяц')\n",
    "else:\n",
    "    if (int(day) < month_ds[month]['sign_change']):\n",
    "        sign =  month_ds[month]['sign_before']\n",
    "    else:\n",
    "        sign =  month_ds[month]['sign_after']                                                   \n",
    "    print(\"Ваш знак зодиака: \", sign)"
   ]
  },
  {
   "cell_type": "markdown",
   "metadata": {},
   "source": [
    "## Задание 4"
   ]
  },
  {
   "cell_type": "markdown",
   "metadata": {},
   "source": [
    "Вам нужно написать программу для подбора упаковок по размерам товара. Размеры (ширина, длина, высота) хранятся в переменных (в сантиметрах):\n",
    "\n",
    "Используйте следующие правила:\n",
    "- если каждое из трех измерений менее 15 сантиметров, то выведите на экран \"Коробка №1\";\n",
    "- если хотя бы одно из измерений больше 15 сантиметров, но менее 50 сантиметров, то выводите \"Коробка №2\";\n",
    "- если длина товара больше 2 метров, то выводите \"Упаковка для лыж\";\n",
    "- во всех остальных случаях выводите \"Стандартная коробка №3\"."
   ]
  },
  {
   "cell_type": "code",
   "execution_count": null,
   "metadata": {},
   "outputs": [],
   "source": [
    "width = 15\n",
    "length = 50\n",
    "height = 15\n",
    "\n",
    "max_dimension = max(width, length, height)\n",
    "\n",
    "if(length > 200):\n",
    "    print('Упаковка для лыж')\n",
    "elif(max_dimension < 15):\n",
    "    print('Коробка №1')\n",
    "elif(max_dimension < 50):\n",
    "    print('Коробка №2')\n",
    "else:\n",
    "    print('Коробка №3')"
   ]
  },
  {
   "cell_type": "markdown",
   "metadata": {},
   "source": [
    "## Задание 5 (необязательное)"
   ]
  },
  {
   "cell_type": "markdown",
   "metadata": {},
   "source": [
    "Дана переменная, в которой хранится шестизначное число (номер проездного билета). Напишите программу, которая будет определять, является ли данный билет \"счастливым\". Билет считается счастливым, если сумма первых трех цифр совпадает с суммой последних трех цифр номера.   "
   ]
  },
  {
   "cell_type": "code",
   "execution_count": null,
   "metadata": {},
   "outputs": [],
   "source": [
    "number = 423432\n",
    "\n",
    "number = str(number)\n",
    "left_part = int(number[0]) + int(number[1]) + int(number[2])\n",
    "right_part = int(number[3]) + int(number[4]) + int(number[5])\n",
    "\n",
    "if(left_part == right_part):\n",
    "    print('Cчастливый билет')\n",
    "else:\n",
    "    print('Несчастливый билет')"
   ]
  },
  {
   "cell_type": "markdown",
   "metadata": {},
   "source": [
    "## Задание 6 (необязательное)"
   ]
  },
  {
   "cell_type": "markdown",
   "metadata": {},
   "source": [
    "bНапишите программу, которая сможет вычислять площади трех фигур (круг, треугольник и прямоугольник).\n",
    "Тип фигуры запрашиваем через пользовательский ввод, после чего делаем запрос характеристик фигуры:\n",
    "\n",
    "- если пользователь выбрал круг, запрашиваем его радиус,\n",
    "- если треугольник – длины трех его сторон;\n",
    "- если прямоугольник – длины двух его сторон."
   ]
  },
  {
   "cell_type": "code",
   "execution_count": null,
   "metadata": {},
   "outputs": [],
   "source": [
    "from math import pi\n",
    "\n",
    "def is_valid(value):\n",
    "    try:\n",
    "        float(value)\n",
    "        return True\n",
    "    except ValueError:\n",
    "        return False\n",
    "\n",
    "shape = input('Введите тип фигуры: ')\n",
    "\n",
    "if(shape.lower() == 'круг'):\n",
    "    radius = input('Введите радиус: ')\n",
    "    if(not is_valid(radius)):\n",
    "        print('Вы ввели неверный радиус')\n",
    "    else:\n",
    "        area = pi * float(radius)**2\n",
    "        print('Площадь круга', area)\n",
    "        \n",
    "elif(shape.lower() == 'треугольник'):\n",
    "    side_a = input('Введите длину стороны A: ')\n",
    "    side_b = input('Введите длину стороны B: ')\n",
    "    side_c = input('Введите длину стороны C: ')\n",
    "    \n",
    "    if(not is_valid(side_a) or not is_valid(side_b) or not is_valid(side_c)):\n",
    "        print('Вы ввели неверную длину')\n",
    "    else:\n",
    "        ## Semiperimeter.\n",
    "        s = (float(side_a) + float(side_b) + float(side_c)) / 2\n",
    "        area = (s*(s-float(side_a))*(s-float(side_b))*(s-float(side_c))) ** 0.5\n",
    "        print('Площадь треугольника', area)\n",
    "\n",
    "elif(shape.lower() == 'прямоугольник'):\n",
    "    side_a = input('Введите длину стороны A: ')\n",
    "    side_b = input('Введите длину стороны B: ')\n",
    "    \n",
    "    if(not is_valid(side_a) or not is_valid(side_b)):\n",
    "        print('Вы ввели неверную длину')\n",
    "    else:\n",
    "        area = float(side_a) * float(side_b)\n",
    "        print('Площадь прямоугольника', area)\n",
    "        \n",
    "else:\n",
    "    print('Вы ввели неизвестную фигуру')"
   ]
  }
 ],
 "metadata": {
  "kernelspec": {
   "display_name": "Python 3",
   "language": "python",
   "name": "python3"
  },
  "language_info": {
   "codemirror_mode": {
    "name": "ipython",
    "version": 3
   },
   "file_extension": ".py",
   "mimetype": "text/x-python",
   "name": "python",
   "nbconvert_exporter": "python",
   "pygments_lexer": "ipython3",
   "version": "3.8.5"
  }
 },
 "nbformat": 4,
 "nbformat_minor": 2
}
