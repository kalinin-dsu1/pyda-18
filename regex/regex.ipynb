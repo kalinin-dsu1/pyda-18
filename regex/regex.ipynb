{
 "cells": [
  {
   "cell_type": "markdown",
   "metadata": {},
   "source": [
    "# Домашнее задание к лекции \"Регулярные выражения\""
   ]
  },
  {
   "cell_type": "markdown",
   "metadata": {},
   "source": [
    "## Задание 1\n",
    "\n",
    "Напишите функцию, которая принимает на вход строку и проверяет является ли она валидным транспортным номером (1 буква, 3 цифры, 2 буквы, 2-3 цифры). Обратите внимание, что не все буквы кириллического алфавита используются в транспортных номерах.\n",
    "\n",
    "Если номер валиден, то функция должна возвращать отдельно номер и регион.\n",
    "\n",
    "Примеры работы программы:  \n",
    "\n",
    "1. `car_id = 'A222BC96'`\n",
    "\n",
    "Результат: \n",
    "`Номер A222BС валиден. Регион: 96`\n",
    "\n",
    "2. `car_id = 'АБ22ВВ193'`\n",
    "\n",
    "Результат: \n",
    "`Номер не валиден`"
   ]
  },
  {
   "cell_type": "code",
   "execution_count": 1,
   "metadata": {},
   "outputs": [
    {
     "name": "stdout",
     "output_type": "stream",
     "text": [
      "Номер A222BC валиден. Регион: 96\n",
      "Номер не валиден\n"
     ]
    }
   ],
   "source": [
    "import re\n",
    "\n",
    "def validate_car_id(car_id):\n",
    "    # Латинские буквы с существующим кириллическим аналогом:\n",
    "    valid_letters = 'ABEKMHOPCTYX'\n",
    "    match = re.match(r'([' + valid_letters + ']\\d{3}[' + valid_letters + ']{2})(\\d{2})', car_id)\n",
    "    if match:\n",
    "        groups = match.groups()\n",
    "        print(f'Номер {groups[0]} валиден. Регион: {groups[1]}')\n",
    "    else:\n",
    "        print(f'Номер не валиден')\n",
    "\n",
    "validate_car_id('A222BC96')\n",
    "validate_car_id('АБ22ВВ193')"
   ]
  },
  {
   "cell_type": "markdown",
   "metadata": {},
   "source": [
    "## Задание 2\n",
    "\n",
    "Напишите функцию, которая будет удалять все последовательные повторы слов из заданной строки при помощи регулярных выражений.\n",
    "\n",
    "Пример работы программы:  \n",
    "\n",
    "`some_string = 'Напишите функцию функцию, которая будет будет будет будет удалять все все все все последовательные повторы слов из из из из заданной строки строки при помощи регулярных выражений.'`\n",
    "\n",
    "Результат:  \n",
    "`Напишите функцию, которая будет удалять все последовательные повторы слов из заданной строки при помощи регулярных выражений.`"
   ]
  },
  {
   "cell_type": "code",
   "execution_count": 2,
   "metadata": {},
   "outputs": [
    {
     "name": "stdout",
     "output_type": "stream",
     "text": [
      "\n",
      "    Напишите функцию, которая будет удалять все последовательные\n",
      "    повторы слов из заданной строки при помощи регулярных выражений.\n",
      "\n"
     ]
    }
   ],
   "source": [
    "import re\n",
    "\n",
    "def remove_repeats(phrase):\n",
    "    return re.sub(r'(\\w+)(\\s\\1)+', r'\\1', phrase)\n",
    "\n",
    "print(remove_repeats(\"\"\"\n",
    "    Напишите функцию функцию, которая будет будет будет будет удалять все все все все последовательные\n",
    "    повторы слов из из из из заданной строки строки при помощи регулярных выражений.\n",
    "\"\"\"))"
   ]
  },
  {
   "cell_type": "markdown",
   "metadata": {},
   "source": [
    "## Задание 3\n",
    "\n",
    "Напишите функцию, которая будет возвращать акроним по переданной в нее строке со словами.\n",
    "\n",
    "Примеры работы программы:  \n",
    "\n",
    "1. `some_words = 'Информационные технологии'`\n",
    "\n",
    "Результат: \n",
    "`ИТ`\n",
    "\n",
    "2. `some_words = 'Near Field Communication'`\n",
    "\n",
    "Результат: \n",
    "`NFC`"
   ]
  },
  {
   "cell_type": "code",
   "execution_count": 3,
   "metadata": {},
   "outputs": [
    {
     "name": "stdout",
     "output_type": "stream",
     "text": [
      "ИТ\n",
      "NFC\n"
     ]
    }
   ],
   "source": [
    "import re\n",
    "\n",
    "def acronym(phrase):\n",
    "    return re.sub(r'([\\w])\\w+\\s*', r'\\1', phrase).upper()\n",
    "    \n",
    "print(acronym('Информационные технологии'))\n",
    "print(acronym('Near Field Communication'))"
   ]
  },
  {
   "cell_type": "markdown",
   "metadata": {},
   "source": [
    "## Задание 4\n",
    "\n",
    "Напишите функцию, которая будет принимать на вход список email-адресов и выводить их распределение по доменным зонам.\n",
    "\n",
    "Пример работы программы:  \n",
    "\n",
    "`emails = ['test@gmail.com', 'xyz@test.in', 'test@ya.ru', 'xyz@mail.ru', 'xyz@ya.ru', 'xyz@gmail.com']`\n",
    "\n",
    "Результат: \n",
    "```\n",
    "gmail.com: 2\n",
    "test.in: 1 \n",
    "ya.ru: 2 \n",
    "mail.ru: 1\n",
    "```"
   ]
  },
  {
   "cell_type": "code",
   "execution_count": 4,
   "metadata": {},
   "outputs": [
    {
     "name": "stdout",
     "output_type": "stream",
     "text": [
      "{'gmail.com': 2, 'test.in': 1, 'ya.ru': 2, 'mail.ru': 1}\n"
     ]
    }
   ],
   "source": [
    "import re\n",
    "\n",
    "def group_by_zone(emails):\n",
    "    out = {}\n",
    "    for email in emails:\n",
    "        email = re.search(r'(?<=\\@)\\w+.\\w+', email).group(0)\n",
    "        out[email] = out.setdefault(email, 0) + 1\n",
    "    return out\n",
    "    \n",
    "print(group_by_zone(['test@gmail.com', 'xyz@test.in', 'test@ya.ru', 'xyz@mail.ru', 'xyz@ya.ru', 'xyz@gmail.com']))"
   ]
  },
  {
   "cell_type": "markdown",
   "metadata": {},
   "source": [
    "## Задание 5 (необязательное)\n",
    "\n",
    "Напишите функцию, которая будет подсчитывать сколько слов начинается на гласные, а сколько на согласные буквы в тексте (текст может быть написан как с использованием букв кириллицы, так и латиницы).\n",
    "\n",
    "Пример работы программы:  \n",
    "\n",
    "`some_text = 'Эталонной реализацией Python является интерпретатор CPython, поддерживающий большинство активно используемых платформ. Он распространяется под свободной лицензией Python Software Foundation License, позволяющей использовать его без ограничений в любых приложениях, включая проприетарные.'`\n",
    "\n",
    "Результат: \n",
    "```\n",
    "Слов на гласные буквы: 9\n",
    "Слов на согласные буквы: 21 \n",
    "```"
   ]
  },
  {
   "cell_type": "code",
   "execution_count": 5,
   "metadata": {},
   "outputs": [
    {
     "name": "stdout",
     "output_type": "stream",
     "text": [
      "Слов на гласные буквы: 9\n",
      "Слов на согласные буквы: 20\n"
     ]
    }
   ],
   "source": [
    "import re\n",
    "\n",
    "def count_letters_type(phrase):\n",
    "    vowels = 0\n",
    "    consonant = 0\n",
    "    words = re.findall(r'(\\w)(\\w+)', phrase)\n",
    "    for first_letter, other_letters in words:\n",
    "        if first_letter in 'аеёиоуыэюяaeiouyАЕЁИОУЫЭЮЯAEIOUY':\n",
    "            vowels += 1\n",
    "        else:\n",
    "            consonant += 1\n",
    "    \n",
    "    print(f'Слов на гласные буквы: {vowels}')\n",
    "    print(f'Слов на согласные буквы: {consonant}')\n",
    "\n",
    "count_letters_type('''\n",
    "    Эталонной реализацией Python является интерпретатор CPython, поддерживающий большинство активно\n",
    "    используемых платформ. Он распространяется под свободной лицензией Python Software Foundation License, позволяющей\n",
    "    использовать его без ограничений в любых приложениях, включая проприетарные.\n",
    "''')"
   ]
  },
  {
   "cell_type": "markdown",
   "metadata": {},
   "source": [
    "## Задание 6 (необязательное)\n",
    "Напишите функцию, которая будет проверять номер сотового телефона на валидность (только для российского формата), если он валиден, то переводить его в формат:   \n",
    "+7-xxx-xxx-xx-xx  \n",
    "Постарайтесь предусмотреть как можно больше адекватных форматов изначального ввода номера.\n",
    "Примеры работы программы:  \n",
    "\n",
    "1. `phone = '+7 955 555-55-55'`\n",
    "\n",
    "Результат: \n",
    "`+7-950-555-55-55`\n",
    "\n",
    "2. `phone = '8(955)555-55-55'`\n",
    "\n",
    "Результат: \n",
    "`+7-950-555-55-55`\n",
    "\n",
    "3. `phone = '+7 955 555 55 55'`\n",
    "\n",
    "Результат: \n",
    "`+7-950-555-55-55`\n",
    "\n",
    "4. `phone = '7(955) 555-55-55'`\n",
    "\n",
    "Результат: \n",
    "`+7-950-555-55-55`\n",
    "\n",
    "5. `phone = '423-555-55-5555'`\n",
    "\n",
    "Результат: \n",
    "`Номер не валиден`\n",
    "\n",
    "6. `phone = '123-456-789'`\n",
    "\n",
    "Результат: \n",
    "`Номер не валиден`"
   ]
  },
  {
   "cell_type": "code",
   "execution_count": 6,
   "metadata": {},
   "outputs": [
    {
     "name": "stdout",
     "output_type": "stream",
     "text": [
      "+7-955-555-55-55\n",
      "+7-955-555-55-55\n",
      "+7-955-555-55-55\n",
      "+7-955-555-55-55\n",
      "Номер не валиден\n",
      "Номер не валиден\n"
     ]
    }
   ],
   "source": [
    "import re\n",
    "\n",
    "def validate_phone(phone):\n",
    "    match = re.match(r'(8|\\+*7)(?:[ -(]*)(\\d{3})(?:[ -)]*)(\\d{3})(?:[ -]?)(\\d{2})(?:[ -]?)(\\d{2})', phone)\n",
    "    if match:\n",
    "        return '+7-'+'-'.join(match.groups()[1:])\n",
    "    else:\n",
    "        return 'Номер не валиден'\n",
    "        \n",
    "    \n",
    "\n",
    "print(validate_phone('+7 955 555-55-55'))\n",
    "print(validate_phone('8(955)555-55-55'))\n",
    "print(validate_phone('+7 955 555 55 55'))\n",
    "print(validate_phone('7(955) 555-55-55'))\n",
    "print(validate_phone('423-555-55-5555'))\n",
    "print(validate_phone('+123-456-789'))"
   ]
  }
 ],
 "metadata": {
  "kernelspec": {
   "display_name": "Python 3",
   "language": "python",
   "name": "python3"
  },
  "language_info": {
   "codemirror_mode": {
    "name": "ipython",
    "version": 3
   },
   "file_extension": ".py",
   "mimetype": "text/x-python",
   "name": "python",
   "nbconvert_exporter": "python",
   "pygments_lexer": "ipython3",
   "version": "3.8.5"
  }
 },
 "nbformat": 4,
 "nbformat_minor": 2
}
