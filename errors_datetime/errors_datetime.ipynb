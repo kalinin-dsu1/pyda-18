{
 "cells": [
  {
   "cell_type": "markdown",
   "id": "polish-lobby",
   "metadata": {},
   "source": [
    "## Задание 1\n",
    "Печатные газеты использовали свой формат дат для каждого выпуска. Для каждой газеты из списка напишите формат указанной даты для перевода в объект datetime:"
   ]
  },
  {
   "cell_type": "markdown",
   "id": "multiple-research",
   "metadata": {},
   "source": [
    "The Moscow Times - Wednesday, October 2, 2002"
   ]
  },
  {
   "cell_type": "code",
   "execution_count": 1,
   "id": "working-tract",
   "metadata": {},
   "outputs": [
    {
     "data": {
      "text/plain": [
       "datetime.datetime(2002, 10, 2, 0, 0)"
      ]
     },
     "execution_count": 1,
     "metadata": {},
     "output_type": "execute_result"
    }
   ],
   "source": [
    "from datetime import datetime as dt\n",
    "\n",
    "dt.strptime('Wednesday, October 2, 2002', '%A, %B %d, %Y')"
   ]
  },
  {
   "cell_type": "markdown",
   "id": "nominated-hindu",
   "metadata": {},
   "source": [
    "The Guardian - Friday, 11.10.13"
   ]
  },
  {
   "cell_type": "code",
   "execution_count": 2,
   "id": "polished-washer",
   "metadata": {},
   "outputs": [
    {
     "data": {
      "text/plain": [
       "datetime.datetime(2013, 10, 11, 0, 0)"
      ]
     },
     "execution_count": 2,
     "metadata": {},
     "output_type": "execute_result"
    }
   ],
   "source": [
    "from datetime import datetime as dt\n",
    "\n",
    "dt.strptime('Friday, 11.10.13', '%A, %d.%m.%y')"
   ]
  },
  {
   "cell_type": "markdown",
   "id": "formal-carter",
   "metadata": {},
   "source": [
    "Daily News - Thursday, 18 August 1977"
   ]
  },
  {
   "cell_type": "code",
   "execution_count": 3,
   "id": "protecting-industry",
   "metadata": {},
   "outputs": [
    {
     "data": {
      "text/plain": [
       "datetime.datetime(1977, 8, 18, 0, 0)"
      ]
     },
     "execution_count": 3,
     "metadata": {},
     "output_type": "execute_result"
    }
   ],
   "source": [
    "from datetime import datetime as dt\n",
    "\n",
    "dt.strptime('Thursday, 18 August 1977', '%A, %d %B %Y')"
   ]
  },
  {
   "cell_type": "markdown",
   "id": "lesser-fruit",
   "metadata": {},
   "source": [
    "## Задание 2\n",
    "Дан поток дат в формате YYYY-MM-DD, в которых встречаются некорректные значения:\n",
    "\n",
    "stream = [\"2018-04-02\", \"2018-02-29\", \"2018-19-02\"]\n",
    "\n",
    "Напишите функцию, которая проверяет эти даты на корректность. Т. е. для каждой даты возвращает True (дата корректна) или False (некорректная дата)."
   ]
  },
  {
   "cell_type": "code",
   "execution_count": 4,
   "id": "magnetic-speech",
   "metadata": {},
   "outputs": [
    {
     "data": {
      "text/plain": [
       "[True, False, False]"
      ]
     },
     "execution_count": 4,
     "metadata": {},
     "output_type": "execute_result"
    }
   ],
   "source": [
    "from datetime import datetime as dt\n",
    "\n",
    "def validate_date_stream(stream):\n",
    "    out = []\n",
    "    for date in stream: \n",
    "        try:\n",
    "            dt.strptime(date, '%Y-%m-%d')\n",
    "            out.append(True)\n",
    "        except:\n",
    "            out.append(False)\n",
    "    return out\n",
    "            \n",
    "stream = [\"2018-04-02\", \"2018-02-29\", \"2018-19-02\"]\n",
    "validate_date_stream(stream)        "
   ]
  },
  {
   "cell_type": "markdown",
   "id": "streaming-butterfly",
   "metadata": {},
   "source": [
    "## Задание 3\n",
    "Напишите функцию date_range, которая возвращает список дат за период от start_date до end_date. Даты должны вводиться в формате YYYY-MM-DD. В случае неверного формата или при start_date > end_date должен возвращаться пустой список."
   ]
  },
  {
   "cell_type": "code",
   "execution_count": 5,
   "id": "invalid-default",
   "metadata": {},
   "outputs": [
    {
     "name": "stdout",
     "output_type": "stream",
     "text": [
      "Ввведите начальную дату:2018-02-01\n",
      "Ввведите конечную дату:2018-02-05\n"
     ]
    },
    {
     "data": {
      "text/plain": [
       "['2018-02-01', '2018-02-02', '2018-02-03', '2018-02-04', '2018-02-05']"
      ]
     },
     "execution_count": 5,
     "metadata": {},
     "output_type": "execute_result"
    }
   ],
   "source": [
    "from datetime import datetime as dt\n",
    "from datetime import timedelta \n",
    "\n",
    "def date_range():\n",
    "    out = []\n",
    "    try:\n",
    "        start = dt.strptime(input('Ввведите начальную дату:'), '%Y-%m-%d')\n",
    "        end = dt.strptime(input('Ввведите конечную дату:'), '%Y-%m-%d')\n",
    "        if(end >= start):\n",
    "            while start <= end:\n",
    "                out.append(dt.strftime(start, '%Y-%m-%d'))\n",
    "                start += timedelta(days=1)\n",
    "    except:\n",
    "        pass\n",
    "    return out\n",
    "    \n",
    "date_range()"
   ]
  },
  {
   "cell_type": "markdown",
   "id": "radio-comfort",
   "metadata": {},
   "source": [
    "## Задание 4 (бонусное)\n",
    "Задание 4 (бонусное)\n",
    "\n",
    "Ваш коллега прислал код функции:\n",
    "```\n",
    "DEFAULT_USER_COUNT = 3\n",
    "\n",
    "def delete_and_return_last_user(region, default_list=[\"A100\", \"A101\", \"A102\"]):\n",
    "    \"\"\"\n",
    "    Удаляет из списка default_list последнего пользователя\n",
    "    и возвращает ID нового последнего пользователя.\n",
    "    \"\"\"\n",
    "    element_to_delete = default_list[-1]\n",
    "    default_list.remove(element_to_delete)\n",
    "    return default_list[DEFAULT_USER_COUNT-2]\n",
    "```\n",
    "\n",
    "При однократном вызове этой функции все работает корректно:\n",
    "```\n",
    "delete_and_return_last_user(1)\n",
    "‘A101’\n",
    "```\n",
    "\n",
    "Однако, при повторном вызове получается ошибка IndexError: list index out of range.\n",
    "\n",
    "Задание:\n",
    "\n",
    "Что значит ошибка list index out of range?\n",
    "Почему при первом запуске функция работает корректно, а при втором - нет?"
   ]
  },
  {
   "cell_type": "markdown",
   "id": "cordless-replacement",
   "metadata": {},
   "source": [
    "#### Ответ:\n",
    "В функции допущено две ошибки:\n",
    "* Использована изменяемая переменная для значения аргумента функции по умолчанию. При любом изменении этой переменной внутри функции, мы так же будет менять значение переменной по умолчанию. Это плохая практика.\n",
    "* Функция всегда возвращает второй элемент списка, а значит после двух запусков функции, когда в списке остался один элемент, попытка вернуть второй элемент вызовет ошибку list index out of range, которая означает, что мы пытаемся обратиться по индексу к элементу, которого нет в списке."
   ]
  }
 ],
 "metadata": {
  "kernelspec": {
   "display_name": "Python 3",
   "language": "python",
   "name": "python3"
  },
  "language_info": {
   "codemirror_mode": {
    "name": "ipython",
    "version": 3
   },
   "file_extension": ".py",
   "mimetype": "text/x-python",
   "name": "python",
   "nbconvert_exporter": "python",
   "pygments_lexer": "ipython3",
   "version": "3.8.5"
  }
 },
 "nbformat": 4,
 "nbformat_minor": 5
}
